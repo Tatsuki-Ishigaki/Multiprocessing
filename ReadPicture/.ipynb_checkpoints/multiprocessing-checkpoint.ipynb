{
 "cells": [
  {
   "cell_type": "code",
   "execution_count": 0,
   "metadata": {
    "colab": {
     "autoexec": {
      "startup": false,
      "wait_interval": 0
     }
    },
    "colab_type": "code",
    "collapsed": true,
    "id": "pJvBDzzbHpij"
   },
   "outputs": [],
   "source": [
    "import time\n",
    "import numpy as np\n",
    "from PIL import Image\n",
    "from multiprocessing import Pool, Queue, Process\n",
    "import multiprocessing\n"
   ]
  },
  {
   "cell_type": "code",
   "execution_count": 17,
   "metadata": {
    "colab": {
     "autoexec": {
      "startup": false,
      "wait_interval": 0
     },
     "base_uri": "https://localhost:8080/",
     "height": 35
    },
    "colab_type": "code",
    "executionInfo": {
     "elapsed": 5453,
     "status": "ok",
     "timestamp": 1532928908947,
     "user": {
      "displayName": "8 x 4",
      "photoUrl": "https://lh3.googleusercontent.com/a/default-user=s128",
      "userId": "118197352509166996121"
     },
     "user_tz": -540
    },
    "id": "uWBd08SaOrKo",
    "outputId": "96a34a69-4ebd-4f92-dc5e-ddf1d57a9adb"
   },
   "outputs": [
    {
     "name": "stdout",
     "output_type": "stream",
     "text": [
      "complete!\n"
     ]
    }
   ],
   "source": [
    "def load_image_list(path):\n",
    "    \"\"\"画像ファイル名のリストを読み込む\"\"\"\n",
    "    with open(path) as f:\n",
    "        lines = [x.strip() for x in f.readlines()]\n",
    "    return np.array(lines)\n",
    "\n",
    "def load_image_data(filename):\n",
    "    \"\"\"画像を読み込む\"\"\"\n",
    "    with Image.open(filename) as img:\n",
    "        image = np.asarray(img.resize((256,256)).convert('RGB'), dtype=np.float32)\n",
    "    return image\n",
    "print (\"complete!\")"
   ]
  },
  {
   "cell_type": "code",
   "execution_count": 0,
   "metadata": {
    "colab": {
     "autoexec": {
      "startup": false,
      "wait_interval": 0
     }
    },
    "colab_type": "code",
    "collapsed": true,
    "id": "hXkMqPUBQicC"
   },
   "outputs": [],
   "source": [
    "import sys\n",
    "import os\n",
    "from urllib import request\n",
    "from PIL import Image\n",
    "\n",
    "def download(url, decode=False):\n",
    "    response = request.urlopen(url)\n",
    "    if response.geturl() == \"https://s.yimg.com/pw/images/en-us/photo_unavailable.png\":\n",
    "        # Flickr :This photo is no longer available iamge.\n",
    "        raise Exception(\"This photo is no longer available iamge.\")\n",
    "\n",
    "    body = response.read()\n",
    "    if decode == True:\n",
    "        body = body.decode()\n",
    "    return body\n",
    "\n",
    "def write(path, img):\n",
    "    file = open(path, 'wb')\n",
    "    file.write(img)\n",
    "    file.close()\n",
    "\n",
    "# see http://image-net.org/archive/words.txt\n",
    "classes = {\"banana\":\"n07753592\",}\n",
    "\n",
    "offset = 0\n",
    "max = 400\n",
    "for dir, id in classes.items():\n",
    "    print(dir)\n",
    "    os.makedirs(dir, exist_ok=True)\n",
    "    urls = download(\"http://www.image-net.org/api/text/imagenet.synset.geturls?wnid=\"+id, decode=True).split()\n",
    "    print(len(urls))\n",
    "    i = 0\n",
    "    for url in urls:\n",
    "        if i < offset:\n",
    "            continue\n",
    "        if i > max:\n",
    "            break\n",
    "\n",
    "        try:\n",
    "            file = os.path.split(url)[1]\n",
    "            path = dir + \"/\" + file\n",
    "            write(path, download(url))\n",
    "            print(\"done:\" + str(i) + \":\" + file)\n",
    "        except:\n",
    "            print(\"Unexpected error:\", sys.exc_info()[0])\n",
    "            print(\"error:\" + str(i) + \":\" + file)\n",
    "        i = i + 1\n",
    "\n",
    "print(\"end\")"
   ]
  },
  {
   "cell_type": "code",
   "execution_count": 3,
   "metadata": {
    "colab": {
     "autoexec": {
      "startup": false,
      "wait_interval": 0
     },
     "base_uri": "https://localhost:8080/",
     "height": 73
    },
    "colab_type": "code",
    "executionInfo": {
     "elapsed": 5666,
     "status": "ok",
     "timestamp": 1532929628992,
     "user": {
      "displayName": "8 x 4",
      "photoUrl": "https://lh3.googleusercontent.com/a/default-user=s128",
      "userId": "118197352509166996121"
     },
     "user_tz": -540
    },
    "id": "GH5M31j0keOQ",
    "outputId": "7d686f32-c0af-4e67-c1f0-2710b9da974d"
   },
   "outputs": [
    {
     "name": "stdout",
     "output_type": "stream",
     "text": [
      "/Users/e165733/Multiprocessing/ReadPicture\n"
     ]
    },
    {
     "ename": "FileNotFoundError",
     "evalue": "[Errno 2] No such file or directory: 'banana'",
     "output_type": "error",
     "traceback": [
      "\u001b[0;31m---------------------------------------------------------------------------\u001b[0m",
      "\u001b[0;31mFileNotFoundError\u001b[0m                         Traceback (most recent call last)",
      "\u001b[0;32m<ipython-input-3-69e04b666060>\u001b[0m in \u001b[0;36m<module>\u001b[0;34m()\u001b[0m\n\u001b[1;32m      4\u001b[0m \u001b[0mfullpath\u001b[0m \u001b[0;34m=\u001b[0m \u001b[0mos\u001b[0m\u001b[0;34m.\u001b[0m\u001b[0mpath\u001b[0m\u001b[0;34m.\u001b[0m\u001b[0mabspath\u001b[0m\u001b[0;34m(\u001b[0m\u001b[0;34m\"\"\u001b[0m\u001b[0;34m)\u001b[0m\u001b[0;34m\u001b[0m\u001b[0m\n\u001b[1;32m      5\u001b[0m \u001b[0mprint\u001b[0m\u001b[0;34m(\u001b[0m\u001b[0mfullpath\u001b[0m\u001b[0;34m)\u001b[0m\u001b[0;34m\u001b[0m\u001b[0m\n\u001b[0;32m----> 6\u001b[0;31m \u001b[0mgroupfiles\u001b[0m \u001b[0;34m=\u001b[0m \u001b[0mos\u001b[0m\u001b[0;34m.\u001b[0m\u001b[0mlistdir\u001b[0m\u001b[0;34m(\u001b[0m\u001b[0mpath\u001b[0m\u001b[0;34m)\u001b[0m\u001b[0;34m\u001b[0m\u001b[0m\n\u001b[0m\u001b[1;32m      7\u001b[0m \u001b[0mgroupfiles_file\u001b[0m \u001b[0;34m=\u001b[0m \u001b[0;34m[\u001b[0m\u001b[0mf\u001b[0m \u001b[0;32mfor\u001b[0m \u001b[0mf\u001b[0m \u001b[0;32min\u001b[0m \u001b[0mgroupfiles\u001b[0m \u001b[0;32mif\u001b[0m \u001b[0mos\u001b[0m\u001b[0;34m.\u001b[0m\u001b[0mpath\u001b[0m\u001b[0;34m.\u001b[0m\u001b[0misfile\u001b[0m\u001b[0;34m(\u001b[0m\u001b[0mos\u001b[0m\u001b[0;34m.\u001b[0m\u001b[0mpath\u001b[0m\u001b[0;34m.\u001b[0m\u001b[0mjoin\u001b[0m\u001b[0;34m(\u001b[0m\u001b[0mpath\u001b[0m\u001b[0;34m,\u001b[0m \u001b[0mf\u001b[0m\u001b[0;34m)\u001b[0m\u001b[0;34m)\u001b[0m\u001b[0;34m]\u001b[0m\u001b[0;34m\u001b[0m\u001b[0m\n\u001b[1;32m      8\u001b[0m \u001b[0mprint\u001b[0m\u001b[0;34m(\u001b[0m\u001b[0mgroupfiles_file\u001b[0m\u001b[0;34m)\u001b[0m\u001b[0;34m\u001b[0m\u001b[0m\n",
      "\u001b[0;31mFileNotFoundError\u001b[0m: [Errno 2] No such file or directory: 'banana'"
     ]
    }
   ],
   "source": [
    "import os\n",
    "import sys\n",
    "path = \"banana\"\n",
    "fullpath = os.path.abspath(\"\")\n",
    "groupfiles = os.listdir(path)\n",
    "groupfiles_file = [f for f in groupfiles if os.path.isfile(os.path.join(path, f))]\n",
    "\n",
    "file = open('group_image.txt', 'w')  #書き込みモードでオープン\n",
    "for name in groupfiles_file:\n",
    "  line = fullpath + \"/\" + \"banana\" + \"/\" + name + \" \\r\\n\"\n",
    "  match = line.find('~')\n",
    "  if match == -1:\n",
    "    file.write(line)\n",
    "  else:\n",
    "    print(line)\n",
    "\n",
    "file.close()\n",
    "\n"
   ]
  },
  {
   "cell_type": "code",
   "execution_count": 21,
   "metadata": {
    "colab": {
     "autoexec": {
      "startup": false,
      "wait_interval": 0
     },
     "base_uri": "https://localhost:8080/",
     "height": 53
    },
    "colab_type": "code",
    "executionInfo": {
     "elapsed": 2913,
     "status": "ok",
     "timestamp": 1532929640492,
     "user": {
      "displayName": "8 x 4",
      "photoUrl": "https://lh3.googleusercontent.com/a/default-user=s128",
      "userId": "118197352509166996121"
     },
     "user_tz": -540
    },
    "id": "V9wLGrhHQ2ug",
    "outputId": "2c97bab1-e3b9-430c-b7ed-0159f9c7457a"
   },
   "outputs": [
    {
     "name": "stdout",
     "output_type": "stream",
     "text": [
      "sample length:\t1087\n",
      "number of cpu:\t2\n"
     ]
    }
   ],
   "source": [
    "datas = load_image_list(path=\"group_image.txt\")\n",
    "print('sample length:\\t{}'.format(len(datas)))\n",
    "\n",
    "cpu = multiprocessing.cpu_count()\n",
    "print('number of cpu:\\t{}'.format(cpu))"
   ]
  },
  {
   "cell_type": "code",
   "execution_count": 0,
   "metadata": {
    "colab": {
     "autoexec": {
      "startup": false,
      "wait_interval": 0
     }
    },
    "colab_type": "code",
    "collapsed": true,
    "id": "77SK3xfbhJt6"
   },
   "outputs": [],
   "source": [
    "num = 100\n",
    "indexes = np.random.permutation(num)\n",
    "filenames = datas[indexes]\n",
    "\n",
    "print(\"シングルプロセス-------------------\")\n",
    "%time [load_image_data(filename) for filename in filenames]\n",
    "pool = Pool(cpu)\n",
    "print(\"マルチプロセス-------------------\")\n",
    "%time pool.map(load_image_data, filenames)\n",
    "pool.close()"
   ]
  }
 ],
 "metadata": {
  "accelerator": "GPU",
  "colab": {
   "collapsed_sections": [],
   "default_view": {},
   "name": "multiprocessing_document.ipynb",
   "provenance": [],
   "version": "0.3.2",
   "views": {}
  },
  "kernelspec": {
   "display_name": "Python 3",
   "language": "python",
   "name": "python3"
  },
  "language_info": {
   "codemirror_mode": {
    "name": "ipython",
    "version": 3
   },
   "file_extension": ".py",
   "mimetype": "text/x-python",
   "name": "python",
   "nbconvert_exporter": "python",
   "pygments_lexer": "ipython3",
   "version": "3.6.3"
  }
 },
 "nbformat": 4,
 "nbformat_minor": 1
}
